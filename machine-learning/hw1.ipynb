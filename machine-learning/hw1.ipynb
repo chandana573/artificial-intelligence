{
 "cells": [
  {
   "cell_type": "markdown",
   "metadata": {},
   "source": [
    "Bryan Chen<br>\n",
    "bc2vf<br>\n",
    "CS 6316 Basit<br>\n",
    "HW 1\n",
    "\n",
    "**1.2**<br>\n",
    "Import required packages:"
   ]
  },
  {
   "cell_type": "code",
   "execution_count": 463,
   "metadata": {
    "collapsed": true
   },
   "outputs": [],
   "source": [
    "%matplotlib inline\n",
    "\n",
    "import numpy as np\n",
    "import matplotlib.pyplot as plt\n",
    "import matplotlib.mlab as mlab\n",
    "import pandas as pd"
   ]
  },
  {
   "cell_type": "markdown",
   "metadata": {},
   "source": [
    "Generate 12 data samples (x, y) such that x is uniformly distributed in the interval [0,1], and y is normally distributed y ~ N(0, 0.5):"
   ]
  },
  {
   "cell_type": "code",
   "execution_count": 464,
   "metadata": {
    "collapsed": true
   },
   "outputs": [],
   "source": [
    "y = np.random.uniform(low=0, high=1, size=12)\n",
    "x = np.random.normal(loc=0, scale=0.5, size=12)"
   ]
  },
  {
   "cell_type": "markdown",
   "metadata": {},
   "source": [
    "Model this data as y = f(x) + noise, using polynomials of degree 1, 2 and 6, to estimate unknown f(x):"
   ]
  },
  {
   "cell_type": "code",
   "execution_count": 465,
   "metadata": {
    "collapsed": false
   },
   "outputs": [],
   "source": [
    "p1 = np.polyfit(x=x, y=y, deg=1)\n",
    "p1 = np.poly1d(p1)\n",
    "p2 = np.polyfit(x=x, y=y, deg=2)\n",
    "p2 = np.poly1d(p2)\n",
    "p3 = np.polyfit(x=x, y=y, deg=6)\n",
    "p3 = np.poly1d(p3)\n",
    "\n",
    "f1 = p1(x)\n",
    "f2 = p2(x)\n",
    "f3 = p3(x)"
   ]
  },
  {
   "cell_type": "markdown",
   "metadata": {},
   "source": [
    "Report the fitting error (MSE) for each model:"
   ]
  },
  {
   "cell_type": "code",
   "execution_count": 466,
   "metadata": {
    "collapsed": false
   },
   "outputs": [
    {
     "name": "stdout",
     "output_type": "stream",
     "text": [
      "0.0715851320077\n",
      "0.0610380336032\n",
      "0.0412958324612\n"
     ]
    }
   ],
   "source": [
    "def fitting_error(yhat, y, n):\n",
    "    return sum(pow((yhat - y), 2)) / n\n",
    "\n",
    "e1 = fitting_error(f1, y, 12)\n",
    "e2 = fitting_error(f2, y, 12)\n",
    "e3 = fitting_error(f3, y, 12)\n",
    "print(e1)\n",
    "print(e2)\n",
    "print(e3)"
   ]
  },
  {
   "cell_type": "markdown",
   "metadata": {},
   "source": [
    "Show the estimated regression model graphically along with the data samples:"
   ]
  },
  {
   "cell_type": "code",
   "execution_count": 467,
   "metadata": {
    "collapsed": false
   },
   "outputs": [
    {
     "data": {
      "image/png": "[encoded data removed]",
      "text/plain": [
       "<matplotlib.figure.Figure at 0x1c521da8a20>"
      ]
     },
     "metadata": {},
     "output_type": "display_data"
    }
   ],
   "source": [
    "x_new = np.linspace(min(x), max(x), 120)\n",
    "y_new1 = p1(x_new)\n",
    "y_new2 = p2(x_new)\n",
    "y_new3 = p3(x_new)\n",
    "\n",
    "plt.plot(x, y, 'o')\n",
    "plt.plot(x_new, y_new1, '-')\n",
    "plt.plot(x_new, y_new2, '-')\n",
    "plt.plot(x_new, y_new3, '-')\n",
    "plt.show()"
   ]
  },
  {
   "cell_type": "markdown",
   "metadata": {},
   "source": [
    "The small fitting error can be used as a good indicator for small prediction error for such polynomial models."
   ]
  },
  {
   "cell_type": "markdown",
   "metadata": {},
   "source": [
    "**1.7**<br>\n",
    "Import the daily closing prices Z(t) of the S&P 500 stock index for each trading day throughout year 2006:"
   ]
  },
  {
   "cell_type": "code",
   "execution_count": 468,
   "metadata": {
    "collapsed": false
   },
   "outputs": [],
   "source": [
    "df = pd.DataFrame.from_csv(\"sp500.csv\")\n",
    "n = len(df)\n",
    "df.index = np.arange(0, n)\n",
    "close = df['Close']"
   ]
  },
  {
   "cell_type": "markdown",
   "metadata": {},
   "source": [
    "The daily percentage price change of SP500 index is X(t), defined as:"
   ]
  },
  {
   "cell_type": "code",
   "execution_count": null,
   "metadata": {
    "collapsed": true
   },
   "outputs": [],
   "source": [
    "def price_change(z0, z1):\n",
    "    return (z1 - z0) / z0 * 100"
   ]
  },
  {
   "cell_type": "markdown",
   "metadata": {},
   "source": [
    "The daily percentage change of the 5-day moving average (MA) of the daily closing prices is Y(t), defined as:"
   ]
  },
  {
   "cell_type": "code",
   "execution_count": 470,
   "metadata": {
    "collapsed": true
   },
   "outputs": [],
   "source": [
    "def five_day_ma(z0, z1, z2, z3, z4):\n",
    "    return (z4 + z3 + z2 + z1 + z0) / 5\n",
    "\n",
    "def five_day_ma_change(ma0, ma1):\n",
    "    return (ma1 - ma0) / ma0 * 100"
   ]
  },
  {
   "cell_type": "markdown",
   "metadata": {},
   "source": [
    "Obtain observations of random variable X:"
   ]
  },
  {
   "cell_type": "code",
   "execution_count": 471,
   "metadata": {
    "collapsed": false
   },
   "outputs": [],
   "source": [
    "x_data = []\n",
    "for i in range(1, n):\n",
    "    z0 = close[i-1]\n",
    "    z1 = close[i]\n",
    "    x = price_change(z0, z1)\n",
    "    x_data.append(x)"
   ]
  },
  {
   "cell_type": "markdown",
   "metadata": {},
   "source": [
    "Find the empirical distribution histogram, sample mean, standard deviation, and normal pdf of X:"
   ]
  },
  {
   "cell_type": "code",
   "execution_count": 472,
   "metadata": {
    "collapsed": false
   },
   "outputs": [
    {
     "data": {
      "image/png": "[encoded data removed]",
      "text/plain": [
       "<matplotlib.figure.Figure at 0x1c522472ba8>"
      ]
     },
     "metadata": {},
     "output_type": "display_data"
    }
   ],
   "source": [
    "num, bins, _ = plt.hist(x_data, bins=500, range=[-2,2])\n",
    "plt.xlabel(\"Percent Change in S&P 500 Closing Prices in 2006\")\n",
    "plt.show()"
   ]
  },
  {
   "cell_type": "code",
   "execution_count": 473,
   "metadata": {
    "collapsed": false
   },
   "outputs": [
    {
     "name": "stdout",
     "output_type": "stream",
     "text": [
      "0.046506680399\n",
      "0.623438842809\n"
     ]
    }
   ],
   "source": [
    "xbar = np.mean(x_data)\n",
    "xsig = np.std(x_data)\n",
    "print(xbar)\n",
    "print(xsig)"
   ]
  },
  {
   "cell_type": "code",
   "execution_count": 474,
   "metadata": {
    "collapsed": false
   },
   "outputs": [
    {
     "data": {
      "image/png": "[encoded data removed]",
      "text/plain": [
       "<matplotlib.figure.Figure at 0x1c52100f278>"
      ]
     },
     "metadata": {},
     "output_type": "display_data"
    }
   ],
   "source": [
    "x_normal = np.linspace(xbar - 3*xsig, xbar + 3*xsig, 120)\n",
    "plt.plot(x_normal, mlab.normpdf(x_normal, xbar, xsig))\n",
    "plt.show()"
   ]
  },
  {
   "cell_type": "markdown",
   "metadata": {},
   "source": [
    "Obtain observations of random variable Y:"
   ]
  },
  {
   "cell_type": "code",
   "execution_count": 475,
   "metadata": {
    "collapsed": true
   },
   "outputs": [],
   "source": [
    "z0 = close[0]\n",
    "z1 = close[1]\n",
    "z2 = close[2]\n",
    "z3 = close[3]\n",
    "z4 = close[4]\n",
    "ma0 = five_day_ma(z0, z1, z2, z3, z4)\n",
    "\n",
    "for i in range(5, n):\n",
    "    z0 = close[i-4]\n",
    "    z1 = close[i-3]\n",
    "    z2 = close[i-2]\n",
    "    z3 = close[i-1]\n",
    "    z4 = close[i]\n",
    "    ma1 = five_day_ma(z0, z1, z2, z3, z4)\n",
    "    y = five_day_ma_change(ma0, ma1)\n",
    "    y_data.append(y)\n",
    "    ma0 = ma1"
   ]
  },
  {
   "cell_type": "markdown",
   "metadata": {},
   "source": [
    "Find the empirical distribution histogram, sample mean, and standard deviation of Y:"
   ]
  },
  {
   "cell_type": "code",
   "execution_count": 476,
   "metadata": {
    "collapsed": false
   },
   "outputs": [
    {
     "data": {
      "image/png": "[encoded data removed]",
      "text/plain": [
       "<matplotlib.figure.Figure at 0x1c520fe7160>"
      ]
     },
     "metadata": {},
     "output_type": "display_data"
    }
   ],
   "source": [
    "num, bins, _ = plt.hist(y_data, bins=500, range=[-2,2])\n",
    "plt.xlabel(\"Percent Change in 5-day MA in S&P 500 Closing Prices in 2006\")\n",
    "plt.show()"
   ]
  },
  {
   "cell_type": "code",
   "execution_count": 477,
   "metadata": {
    "collapsed": false
   },
   "outputs": [
    {
     "name": "stdout",
     "output_type": "stream",
     "text": [
      "0.0402822792075\n",
      "0.247863933673\n"
     ]
    }
   ],
   "source": [
    "ybar = np.mean(y_data)\n",
    "ysig = np.std(y_data)\n",
    "print(ybar)\n",
    "print(ysig)"
   ]
  }
 ],
 "metadata": {
  "kernelspec": {
   "display_name": "Python 3",
   "language": "python",
   "name": "python3"
  },
  "language_info": {
   "codemirror_mode": {
    "name": "ipython",
    "version": 3
   },
   "file_extension": ".py",
   "mimetype": "text/x-python",
   "name": "python",
   "nbconvert_exporter": "python",
   "pygments_lexer": "ipython3",
   "version": "3.6.0"
  }
 },
 "nbformat": 4,
 "nbformat_minor": 0
}
